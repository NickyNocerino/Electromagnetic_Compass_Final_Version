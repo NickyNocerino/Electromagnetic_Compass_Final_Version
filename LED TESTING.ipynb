{
 "cells": [
  {
   "cell_type": "code",
   "execution_count": 1,
   "metadata": {
    "collapsed": false
   },
   "outputs": [],
   "source": [
    "from pynq import Overlay\n",
    "Overlay(\"base.bit\").download()"
   ]
  },
  {
   "cell_type": "code",
   "execution_count": 5,
   "metadata": {
    "collapsed": false,
    "scrolled": true
   },
   "outputs": [
    {
     "name": "stdout",
     "output_type": "stream",
     "text": [
      "start\n"
     ]
    }
   ],
   "source": [
    "from time import sleep\n",
    "import math\n",
    "from pynq.board import Button\n",
    "from pynq.iop import Arduino_IO\n",
    "from pynq.iop import ARDUINO\n",
    "from pynq.iop import PMODA\n",
    "from pynq.iop import PMOD_GROVE_G4\n",
    "from pynq.iop import ARDUINO_GROVE_I2C\n",
    "from pynq.iop import Grove_IMU\n",
    "sense = Grove_IMU(PMODA, PMOD_GROVE_G4)\n",
    "led = Arduino_IO(ARDUINO,13,'out')\n",
    "led1 = Arduino_IO(ARDUINO,12,'out')\n",
    "led2 = Arduino_IO(ARDUINO,11,'out')\n",
    "print('start')\n",
    "btns = [Button(index) for index in range(4)]\n",
    "led.write(0)\n",
    "led1.write(0)\n",
    "led2.write(0)"
   ]
  },
  {
   "cell_type": "code",
   "execution_count": 6,
   "metadata": {
    "collapsed": false
   },
   "outputs": [],
   "source": [
    "def getAngleDeg(x,y,mod):\n",
    "    h=math.sqrt(x*x + y*y)\n",
    "    rawAng=math.asin(y/h) / (2*math.pi) *360\n",
    "    if (x>=0 and y>=0):\n",
    "        adjAng = rawAng\n",
    "    elif (x<0 and y>=0):\n",
    "        adjAng = 180-rawAng\n",
    "    elif (x>=0 and y<0):\n",
    "        adjAng = 360+rawAng\n",
    "    elif (x<0 and y<0):\n",
    "        adjAng = 180-rawAng\n",
    "    else:\n",
    "        adjAng = rawAng\n",
    "        print('error in angle calcs')\n",
    "        return 0;\n",
    "    finalAng= adjAng + mod;\n",
    "    return finalAng\n",
    "    \n",
    "def get_tilt_heading(data,altdata):\n",
    "    [ax, ay, _] = altdata[0:3]\n",
    "    [mx, my, mz] = data[0:3]\n",
    "    try:\n",
    "        pitch = math.asin(-ax)\n",
    "        roll = math.asin(ay / math.cos(pitch))\n",
    "    except ZeroDivisionError:\n",
    "        raise RuntimeError(\"Value out of range or device not connected\")\n",
    "\n",
    "    xh = mx * math.cos(pitch) + mz * math.sin(pitch)\n",
    "    yh = mx * math.sin(roll) * math.sin(pitch) + \\\n",
    "    my * math.cos(roll) - mz * math.sin(roll) * math.cos(pitch)\n",
    "    _ = -mx * math.cos(roll) * math.sin(pitch) + \\\n",
    "    my * math.sin(roll) + mz * math.cos(roll) * math.cos(pitch)\n",
    "    tilt_heading = 180 * math.atan2(yh, xh) / math.pi\n",
    "    if yh < 0:\n",
    "        tilt_heading += 360\n",
    "    return float(\"{0:.2f}\".format(tilt_heading))"
   ]
  },
  {
   "cell_type": "code",
   "execution_count": 10,
   "metadata": {
    "collapsed": false,
    "scrolled": true
   },
   "outputs": [
    {
     "name": "stdout",
     "output_type": "stream",
     "text": [
      "start\n",
      "[15.53, 4.39, 12.3]\n",
      "[16.11, 4.39, 12.3]\n",
      "15.24308051024971\n",
      "14.28\n",
      "[15.53, 4.1, 12.6]\n",
      "14.788953532296269\n",
      "13.75\n",
      "[14.36, 3.22, 12.89]\n",
      "12.638601963567153\n",
      "11.41\n",
      "[14.65, 3.22, 12.01]\n",
      "12.396226779799878\n",
      "11.27\n",
      "[14.65, 2.34, 12.6]\n",
      "9.075022859918892\n",
      "7.77\n",
      "[12.89, 1.17, 12.6]\n",
      "5.186413269914536\n",
      "3.57\n",
      "[12.89, 0.59, 12.01]\n",
      "2.6207084529265345\n",
      "1.0\n",
      "[12.01, -0.88, 11.13]\n",
      "355.8092970069573\n",
      "354.01\n",
      "[14.06, 0.59, 11.13]\n",
      "2.402893939521624\n",
      "1.02\n",
      "[13.18, 0.88, 11.43]\n",
      "3.8198453831189734\n",
      "2.34\n",
      "[11.72, -0.88, 11.13]\n",
      "355.7059853289635\n",
      "353.86\n",
      "[13.77, 3.22, 11.72]\n",
      "13.1616417003128\n",
      "12.02\n",
      "[14.36, 0.88, 10.84]\n",
      "3.506776577641219\n",
      "2.21\n",
      "[13.77, 0.29, 10.55]\n",
      "1.2064865760115953\n",
      "359.83\n",
      "[14.65, 1.46, 11.43]\n",
      "5.691231223018669\n",
      "4.41\n",
      "[14.36, 1.76, 11.43]\n",
      "6.987475304256112\n",
      "5.72\n",
      "[14.65, 1.76, 11.43]\n",
      "6.850484200342186\n",
      "5.6\n",
      "[13.77, 0.29, 11.13]\n",
      "1.2064865760115953\n",
      "359.76\n",
      "[14.06, 1.17, 11.13]\n",
      "4.7568966463741384\n",
      "3.43\n",
      "[13.77, 1.17, 11.13]\n",
      "4.85660393394318\n",
      "3.51\n",
      "[14.06, 0.88, 11.13]\n",
      "3.5814083901729887\n",
      "2.22\n",
      "done\n"
     ]
    }
   ],
   "source": [
    "print('start')\n",
    "sense.reset()\n",
    "data=sense.get_compass()\n",
    "heading=sense.get_heading()\n",
    "altdata=sense.get_accl()\n",
    "print(data)\n",
    "while (btns[3].read()==0):\n",
    "    sense.reset()\n",
    "    data=sense.get_compass()\n",
    "    heading=get_tilt_heading(data, altdata)\n",
    "    print(data)\n",
    "    print(getAngleDeg(data[0],data[1],0))\n",
    "    print(heading)\n",
    "    if (heading < 5 or heading >355):\n",
    "        led.write(1)\n",
    "        led1.write(0)\n",
    "        led2.write(0)\n",
    "    elif (heading < 30 and heading > 5):\n",
    "        led1.write(0)\n",
    "        led.write(0)\n",
    "        led2.write(1)\n",
    "    elif (heading < 355 and heading > 330):\n",
    "        led2.write(0)\n",
    "        led.write(0)\n",
    "        led1.write(1)\n",
    "    else:\n",
    "        led.write(0)\n",
    "    #print(altitude(data[0],data[1],data[2]))\n",
    "    sleep(2)\n",
    "print('done')\n",
    "led.write(0)\n",
    "led1.write(0)\n",
    "led2.write(0)"
   ]
  },
  {
   "cell_type": "code",
   "execution_count": null,
   "metadata": {
    "collapsed": true
   },
   "outputs": [],
   "source": []
  },
  {
   "cell_type": "code",
   "execution_count": null,
   "metadata": {
    "collapsed": true
   },
   "outputs": [],
   "source": []
  }
 ],
 "metadata": {
  "kernelspec": {
   "display_name": "Python 3",
   "language": "python",
   "name": "python3"
  },
  "language_info": {
   "codemirror_mode": {
    "name": "ipython",
    "version": 3
   },
   "file_extension": ".py",
   "mimetype": "text/x-python",
   "name": "python",
   "nbconvert_exporter": "python",
   "pygments_lexer": "ipython3",
   "version": "3.4.3+"
  }
 },
 "nbformat": 4,
 "nbformat_minor": 1
}
