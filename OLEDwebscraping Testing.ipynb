{
 "cells": [
  {
   "cell_type": "code",
   "execution_count": 1,
   "metadata": {
    "collapsed": true
   },
   "outputs": [],
   "source": [
    "from pynq import Overlay\n",
    "Overlay(\"base.bit\").download()"
   ]
  },
  {
   "cell_type": "code",
   "execution_count": 11,
   "metadata": {
    "collapsed": false
   },
   "outputs": [],
   "source": [
    "import math\n",
    "from pynq.board import Button\n",
    "from pynq.iop import PMODB\n",
    "from pynq.iop import PMODA\n",
    "from pynq.iop import PMOD_GROVE_G4\n",
    "from pynq.iop import Grove_OLED\n",
    "from pynq.iop import Grove_IMU\n",
    "import bs4\n",
    "from urllib.request import urlopen as uReq\n",
    "from bs4 import BeautifulSoup as soup\n",
    "import requests\n",
    "import json\n",
    "import csv\n",
    "import datetime\n",
    "import re\n",
    "import urllib.request\n",
    "import urllib.parse\n",
    "import xml.dom.minidom\n",
    "oled=Grove_OLED(PMODB,PMOD_GROVE_G4)\n",
    "sense = Grove_IMU(PMODA, PMOD_GROVE_G4)\n",
    "btns = [Button(index) for index in range(4)]\n",
    "tlat=0\n",
    "tlong=0"
   ]
  },
  {
   "cell_type": "code",
   "execution_count": 3,
   "metadata": {
    "collapsed": true
   },
   "outputs": [],
   "source": [
    "def getText(nodelist):\n",
    "    rc = []\n",
    "    for node in nodelist:\n",
    "        if node.nodeType == node.TEXT_NODE:\n",
    "            rc.append(node.data)\n",
    "    return ''.join(rc)"
   ]
  },
  {
   "cell_type": "code",
   "execution_count": 23,
   "metadata": {
    "collapsed": false
   },
   "outputs": [],
   "source": [
    "def getDec(lat,long):\n",
    "    now = datetime.datetime.now()\n",
    "    month = now.month\n",
    "    url=\"http://www.ngdc.noaa.gov/geomag-web/calculators/calculateDeclination?%s\"\n",
    "    params = urllib.parse.urlencode({'lat1': lat, 'lon1': long, 'resultFormat': 'xml', 'startMonth': month})\n",
    "    f = urllib.request.urlopen(url % params)\n",
    "    dom = xml.dom.minidom.parseString(f.read())\n",
    "    myString = getText(dom.getElementsByTagName(\"declination\")[0].childNodes)\n",
    "    declination = str(re.findall(r\"[-+]?\\d*\\.\\d+|\\d+\", myString)[0])\n",
    "    return float(declination)"
   ]
  },
  {
   "cell_type": "code",
   "execution_count": 5,
   "metadata": {
    "collapsed": true
   },
   "outputs": [],
   "source": [
    "def getLat():\n",
    "    url='http://freegeoip.net/csv'\n",
    "    r=requests.get(url)\n",
    "    decoded_content = r.content.decode('utf-8')\n",
    "    cr = csv.reader(decoded_content.splitlines(), delimiter=',')\n",
    "    my_list = list(cr)\n",
    "    for row in my_list:\n",
    "        lat= row[8:9]\n",
    "        long=row[9:10]\n",
    "    return float(lat[0])"
   ]
  },
  {
   "cell_type": "code",
   "execution_count": 6,
   "metadata": {
    "collapsed": true
   },
   "outputs": [],
   "source": [
    "def getLong():\n",
    "    url='http://freegeoip.net/csv'\n",
    "    r=requests.get(url)\n",
    "    decoded_content = r.content.decode('utf-8')\n",
    "    cr = csv.reader(decoded_content.splitlines(), delimiter=',')\n",
    "    my_list = list(cr)\n",
    "    for row in my_list:\n",
    "        lat= row[8:9]\n",
    "        long=row[9:10]\n",
    "    return float(long[0])"
   ]
  },
  {
   "cell_type": "code",
   "execution_count": 7,
   "metadata": {
    "collapsed": false,
    "scrolled": true
   },
   "outputs": [],
   "source": [
    "def getBearing(lat,long,targlat,targlong):\n",
    "    x=math.cos(math.radians(targlat))*math.sin(math.radians(targlong-long))\n",
    "    y=(math.cos(math.radians(lat))*math.sin(math.radians(targlat)))-(math.sin(math.radians(lat))*math.cos(math.radians(targlat))*math.cos(math.radians(targlong-long)))\n",
    "    bearing=math.atan2(x,y)\n",
    "    return math.degrees(bearing)"
   ]
  },
  {
   "cell_type": "code",
   "execution_count": 42,
   "metadata": {
    "collapsed": false,
    "scrolled": true
   },
   "outputs": [],
   "source": [
    "def screenWrite(targlat,targlong):\n",
    "    #print('starting')\n",
    "    #targlat=-10\n",
    "    #targlong=5\n",
    "    lat=getLat()\n",
    "    long=getLong()\n",
    "    dec=getDec(lat,long)\n",
    "    bearing=getBearing(lat,long,targlat,targlong)\n",
    "    sense.reset()\n",
    "    data=sense.get_compass()\n",
    "    heading=sense.get_heading()\n",
    "    altdata=sense.get_accl()\n",
    "    heading=get_tilt_heading(data, altdata)\n",
    "    angle=heading+dec+bearing\n",
    "    angle = (angle+360)%360\n",
    "    #print(dec)\n",
    "    #print('check')\n",
    "    oled.clear()\n",
    "    #16 characters per line \n",
    "    oled.write(\"lat: \"+format(float(lat),'.4f')+\"  \")\n",
    "    if(float(lat)>0):\n",
    "        oled.write(\" \")\n",
    "    if(abs(float(lat))<10):\n",
    "        oled.write(\" \")\n",
    "    if(abs(float(lat))<100):\n",
    "        oled.write(\" \")\n",
    "    oled.write(\"long: \"+format(float(long),'.4f')+\" \")\n",
    "    if(float(long)>0):\n",
    "        oled.write(\" \")\n",
    "    if(abs(float(long))<10):\n",
    "        oled.write(\" \")\n",
    "    if(abs(float(long))<100):\n",
    "        oled.write(\" \")\n",
    "    oled.write(\"target:         \")\n",
    "    oled.write(\"lat: \"+format(float(targlat),'.4f')+\"  \")\n",
    "    if(targlat>=0):\n",
    "        oled.write(\" \")\n",
    "    if(abs(float(targlat))<10):\n",
    "        oled.write(\" \")\n",
    "    if(abs(float(targlat))<100):\n",
    "        oled.write(\" \")\n",
    "    oled.write(\"long: \"+format(float(targlong),'.4f')+\" \")\n",
    "    if(targlong>=0):\n",
    "        oled.write(\" \")\n",
    "    if(abs(float(targlong))<10):\n",
    "        oled.write(\" \")\n",
    "    if(abs(float(targlong))<100):\n",
    "        oled.write(\" \")\n",
    "    oled.write(\"angle: \"+format(float(angle),'.5f'))\n",
    "    #print(\"oled check\")"
   ]
  },
  {
   "cell_type": "code",
   "execution_count": 13,
   "metadata": {
    "collapsed": true
   },
   "outputs": [],
   "source": [
    "def getAngleDeg(x,y,mod):\n",
    "    h=math.sqrt(x*x + y*y)\n",
    "    rawAng=math.asin(y/h) / (2*math.pi) *360\n",
    "    if (x>=0 and y>=0):\n",
    "        adjAng = rawAng\n",
    "    elif (x<0 and y>=0):\n",
    "        adjAng = 180-rawAng\n",
    "    elif (x>=0 and y<0):\n",
    "        adjAng = 360+rawAng\n",
    "    elif (x<0 and y<0):\n",
    "        adjAng = 180-rawAng\n",
    "    else:\n",
    "        adjAng = rawAng\n",
    "        print('error in angle calcs')\n",
    "        return 0;\n",
    "    finalAng= adjAng + mod;\n",
    "    return finalAng\n",
    "    \n",
    "def get_tilt_heading(data,altdata):\n",
    "    [ax, ay, _] = altdata[0:3]\n",
    "    [mx, my, mz] = data[0:3]\n",
    "    try:\n",
    "        pitch = math.asin(-ax)\n",
    "        roll = math.asin(ay / math.cos(pitch))\n",
    "    except ZeroDivisionError:\n",
    "        raise RuntimeError(\"Value out of range or device not connected\")\n",
    "\n",
    "    xh = mx * math.cos(pitch) + mz * math.sin(pitch)\n",
    "    yh = mx * math.sin(roll) * math.sin(pitch) + \\\n",
    "    my * math.cos(roll) - mz * math.sin(roll) * math.cos(pitch)\n",
    "    _ = -mx * math.cos(roll) * math.sin(pitch) + \\\n",
    "    my * math.sin(roll) + mz * math.cos(roll) * math.cos(pitch)\n",
    "    tilt_heading = 180 * math.atan2(yh, xh) / math.pi\n",
    "    if yh < 0:\n",
    "        tilt_heading += 360\n",
    "    return float(\"{0:.2f}\".format(tilt_heading))"
   ]
  },
  {
   "cell_type": "code",
   "execution_count": 41,
   "metadata": {
    "collapsed": false,
    "scrolled": true
   },
   "outputs": [],
   "source": [
    "for i in range(0,20):\n",
    "    screenWrite(float(tlat),float(tlong))"
   ]
  },
  {
   "cell_type": "code",
   "execution_count": 32,
   "metadata": {
    "collapsed": false
   },
   "outputs": [
    {
     "name": "stdout",
     "output_type": "stream",
     "text": [
      "0.05967668697052566\n"
     ]
    }
   ],
   "source": [
    "print( math.cos(math.radians(38.627089)) * math.sin(math.radians(4.38101)))"
   ]
  },
  {
   "cell_type": "code",
   "execution_count": 11,
   "metadata": {
    "collapsed": true
   },
   "outputs": [],
   "source": [
    "oled.clear()"
   ]
  },
  {
   "cell_type": "code",
   "execution_count": 24,
   "metadata": {
    "collapsed": false
   },
   "outputs": [
    {
     "name": "stdout",
     "output_type": "stream",
     "text": [
      "69.89013\n"
     ]
    }
   ],
   "source": [
    "sense.reset()\n",
    "data=sense.get_compass()\n",
    "heading=sense.get_heading()\n",
    "altdata=sense.get_accl()\n",
    "heading=get_tilt_heading(data, altdata)\n",
    "lat=getLat()\n",
    "long=getLong()\n",
    "dec=getDec(lat,long)\n",
    "print(heading+dec)\n"
   ]
  },
  {
   "cell_type": "code",
   "execution_count": null,
   "metadata": {
    "collapsed": true
   },
   "outputs": [],
   "source": []
  }
 ],
 "metadata": {
  "kernelspec": {
   "display_name": "Python 3",
   "language": "python",
   "name": "python3"
  },
  "language_info": {
   "codemirror_mode": {
    "name": "ipython",
    "version": 3
   },
   "file_extension": ".py",
   "mimetype": "text/x-python",
   "name": "python",
   "nbconvert_exporter": "python",
   "pygments_lexer": "ipython3",
   "version": "3.4.3+"
  }
 },
 "nbformat": 4,
 "nbformat_minor": 1
}
