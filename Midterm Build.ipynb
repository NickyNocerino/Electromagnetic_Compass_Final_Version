{
 "cells": [
  {
   "cell_type": "code",
   "execution_count": 1,
   "metadata": {
    "collapsed": true
   },
   "outputs": [],
   "source": [
    "from pynq import Overlay\n",
    "Overlay(\"base.bit\").download()"
   ]
  },
  {
   "cell_type": "markdown",
   "metadata": {},
   "source": [
    "Setup code:\n",
    "imports Pynq board functions for use\n",
    "declares LED pins\n",
    "Declares PMOD Control for the Grove IMU"
   ]
  },
  {
   "cell_type": "code",
   "execution_count": 2,
   "metadata": {
    "collapsed": false
   },
   "outputs": [
    {
     "name": "stdout",
     "output_type": "stream",
     "text": [
      "start\n"
     ]
    }
   ],
   "source": [
    "from time import sleep\n",
    "import math\n",
    "from pynq.board import Button\n",
    "from pynq.iop import Arduino_IO\n",
    "from pynq.iop import ARDUINO\n",
    "from pynq.iop import PMODA\n",
    "from pynq.iop import PMOD_GROVE_G4\n",
    "from pynq.iop import ARDUINO_GROVE_I2C\n",
    "from pynq.iop import Grove_IMU\n",
    "sense = Grove_IMU(PMODA, PMOD_GROVE_G4)\n",
    "led = Arduino_IO(ARDUINO,13,'out')\n",
    "led1 = Arduino_IO(ARDUINO,12,'out')\n",
    "led2 = Arduino_IO(ARDUINO,11,'out')\n",
    "print('start')\n",
    "btns = [Button(index) for index in range(4)]\n",
    "led.write(0)\n",
    "led1.write(0)\n",
    "led2.write(0)"
   ]
  },
  {
   "cell_type": "markdown",
   "metadata": {},
   "source": [
    "## Define Fuctions to determine heading and account for small degrees of compass tilt\n",
    "\n",
    "getAngleDeg: returns angle between x axis and magnetic north in degrees\n",
    "\n",
    "get_tilt_heading: returns angle betwwen the x axis and magnetic north in degrees, adjusted for small amounts of tilt in the compass"
   ]
  },
  {
   "cell_type": "code",
   "execution_count": 3,
   "metadata": {
    "collapsed": true
   },
   "outputs": [],
   "source": [
    "def getAngleDeg(x,y,mod):\n",
    "    h=math.sqrt(x*x + y*y)\n",
    "    rawAng=math.asin(y/h) / (2*math.pi) *360\n",
    "    if (x>=0 and y>=0):\n",
    "        adjAng = rawAng\n",
    "    elif (x<0 and y>=0):\n",
    "        adjAng = 180-rawAng\n",
    "    elif (x>=0 and y<0):\n",
    "        adjAng = 360+rawAng\n",
    "    elif (x<0 and y<0):\n",
    "        adjAng = 180-rawAng\n",
    "    else:\n",
    "        adjAng = rawAng\n",
    "        print('error in angle calcs')\n",
    "        return 0;\n",
    "    finalAng= adjAng + mod;\n",
    "    return finalAng\n",
    "    \n",
    "def get_tilt_heading(data,altdata):\n",
    "    [ax, ay, _] = altdata[0:3]\n",
    "    [mx, my, mz] = data[0:3]\n",
    "    try:\n",
    "        pitch = math.asin(-ax)\n",
    "        roll = math.asin(ay / math.cos(pitch))\n",
    "    except ZeroDivisionError:\n",
    "        raise RuntimeError(\"Value out of range or device not connected\")\n",
    "\n",
    "    xh = mx * math.cos(pitch) + mz * math.sin(pitch)\n",
    "    yh = mx * math.sin(roll) * math.sin(pitch) + \\\n",
    "    my * math.cos(roll) - mz * math.sin(roll) * math.cos(pitch)\n",
    "    _ = -mx * math.cos(roll) * math.sin(pitch) + \\\n",
    "    my * math.sin(roll) + mz * math.cos(roll) * math.cos(pitch)\n",
    "    tilt_heading = 180 * math.atan2(yh, xh) / math.pi\n",
    "    if yh < 0:\n",
    "        tilt_heading += 360\n",
    "    return float(\"{0:.2f}\".format(tilt_heading))"
   ]
  },
  {
   "cell_type": "markdown",
   "metadata": {},
   "source": [
    "central Loop:\n",
    "will light up the central LED only When pointed at Magnetic North\n",
    "press and hold on board Button 3 to terminate"
   ]
  },
  {
   "cell_type": "code",
   "execution_count": 5,
   "metadata": {
    "collapsed": false
   },
   "outputs": [
    {
     "name": "stdout",
     "output_type": "stream",
     "text": [
      "start\n",
      "[16.7, 9.67, -9.08]\n",
      "29.75\n",
      "0.37999999999999545\n",
      "0.8600000000000136\n",
      "355.3\n",
      "354.06\n",
      "354.5\n",
      "359.59\n",
      "7.970000000000027\n",
      "5.699999999999989\n",
      "1.420000000000016\n",
      "354.99\n",
      "355.3\n",
      "355.72\n",
      "359.99\n",
      "4.240000000000009\n",
      "4.470000000000027\n",
      "4.730000000000018\n",
      "4.7099999999999795\n",
      "4.269999999999982\n",
      "5.949999999999989\n",
      "5.230000000000018\n",
      "1.8700000000000045\n",
      "2.8100000000000023\n",
      "355.34\n",
      "353.71\n",
      "2.569999999999993\n",
      "2.579999999999984\n",
      "2.8100000000000023\n",
      "3.509999999999991\n",
      "4.009999999999991\n",
      "4.930000000000007\n",
      "3.509999999999991\n",
      "6.310000000000002\n",
      "done\n"
     ]
    }
   ],
   "source": [
    "print('start')\n",
    "sense.reset()\n",
    "data=sense.get_compass()\n",
    "heading=sense.get_heading()\n",
    "altdata=sense.get_accl()\n",
    "print(data)\n",
    "print(heading)\n",
    "offset=heading;\n",
    "while (btns[3].read()==0):\n",
    "    sense.reset()\n",
    "    data=sense.get_compass()\n",
    "    heading=get_tilt_heading(data, altdata)\n",
    "    setheading= (heading - offset+360)%360 \n",
    "    #print(data)\n",
    "    #print(getAngleDeg(data[0],data[1],0))\n",
    "    print(setheading)\n",
    "    if (setheading < 5 or setheading >355):\n",
    "        led.write(1)\n",
    "        led1.write(0)\n",
    "        led2.write(0)\n",
    "    elif (setheading < 30 and setheading > 5):\n",
    "        led1.write(0)\n",
    "        led.write(0)\n",
    "        led2.write(1)\n",
    "    elif (setheading < 355 and setheading > 330):\n",
    "        led2.write(0)\n",
    "        led.write(0)\n",
    "        led1.write(1)\n",
    "    else:\n",
    "        led.write(0)\n",
    "    #print(altitude(data[0],data[1],data[2]))\n",
    "    sleep(1)\n",
    "print('done')\n",
    "led.write(0)\n",
    "led1.write(0)\n",
    "led2.write(0)"
   ]
  },
  {
   "cell_type": "code",
   "execution_count": null,
   "metadata": {
    "collapsed": true
   },
   "outputs": [],
   "source": []
  },
  {
   "cell_type": "code",
   "execution_count": null,
   "metadata": {
    "collapsed": true
   },
   "outputs": [],
   "source": []
  }
 ],
 "metadata": {
  "kernelspec": {
   "display_name": "Python 3",
   "language": "python",
   "name": "python3"
  },
  "language_info": {
   "codemirror_mode": {
    "name": "ipython",
    "version": 3
   },
   "file_extension": ".py",
   "mimetype": "text/x-python",
   "name": "python",
   "nbconvert_exporter": "python",
   "pygments_lexer": "ipython3",
   "version": "3.4.3+"
  }
 },
 "nbformat": 4,
 "nbformat_minor": 1
}
